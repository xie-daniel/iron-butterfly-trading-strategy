{
  "nbformat": 4,
  "nbformat_minor": 0,
  "metadata": {
    "colab": {
      "provenance": []
    },
    "kernelspec": {
      "name": "python3",
      "display_name": "Python 3"
    },
    "language_info": {
      "name": "python"
    }
  },
  "cells": [
    {
      "cell_type": "code",
      "execution_count": null,
      "metadata": {
        "id": "GwVSoeiw-aA7"
      },
      "outputs": [],
      "source": [
        "import pandas as pd\n",
        "import numpy as np\n",
        "import yfinance as yf\n",
        "from matplotlib import pyplot as plt\n",
        "import datetime\n",
        "import math"
      ]
    },
    {
      "cell_type": "code",
      "source": [
        "'''\n",
        "Calculates profit for iron butterfly\n",
        "Input: pandas Series representing 4 options trades, with indices 'lower_strike',\n",
        "'mid_put','mid_call','upper_strike','otm_put_price','otm_call_price',\n",
        "'atm_put_price','atm_call_price'\n",
        "\n",
        "Input: price of the underlying on the expiration date\n",
        "\n",
        "Returns: profit\n",
        "'''\n",
        "\n",
        "def calculate_iron_butterfly(trade, underlying_price):\n",
        "  if (underlying_price < trade['mid_put']): # ATM put\n",
        "    atm_put = trade['atm_put_price'] + underlying_price - trade['mid_put']\n",
        "  else:\n",
        "    atm_put = trade['atm_put_price']\n",
        "  if (underlying_price > trade['mid_call']): # ATM call\n",
        "    atm_call = trade['atm_call_price'] + trade['mid_call'] - underlying_price\n",
        "  else:\n",
        "    atm_call = trade['atm_call_price']\n",
        "  if (underlying_price < trade['lower_strike']): # OTM put\n",
        "    otm_put = trade['lower_strike'] - underlying_price - trade['otm_put_price']\n",
        "  else:\n",
        "    otm_put = -trade['otm_put_price']\n",
        "  if (underlying_price > trade['upper_strike']): # OTM call\n",
        "    otm_call = underlying_price - trade['upper_strike'] - trade['otm_call_price']\n",
        "  else:\n",
        "    otm_call = -trade['otm_call_price']\n",
        "  return atm_put + atm_call + otm_put + otm_call\n",
        "\n",
        "\n",
        "# Example: buy OTM put @ 60 and OTM call @ 80 for $1 each,\n",
        "#          sell ATM call/put @ 70 for $5 each\n",
        "sample_data = {}\n",
        "x = np.linspace(40, 100, 100)\n",
        "y = [calculate_iron_butterfly(trade=pd.Series(data={'lower_strike':60,\n",
        "    'mid_put':70,'mid_call':70, 'upper_strike':80, 'otm_put_price':1,\n",
        "    'otm_call_price':1, 'atm_put_price':5,'atm_call_price':5},\n",
        "    index=['lower_strike','mid_put','mid_call','upper_strike','otm_put_price','otm_call_price',\n",
        "           'atm_put_price','atm_call_price']), underlying_price=z) for z in x]\n",
        "plt.plot(x, y)\n",
        "plt.axhline(y = 0)"
      ],
      "metadata": {
        "colab": {
          "base_uri": "https://localhost:8080/",
          "height": 448
        },
        "id": "74d3rJq_Igm2",
        "outputId": "acdf20a7-00aa-47e5-a0eb-45b7e1c970ca"
      },
      "execution_count": null,
      "outputs": [
        {
          "output_type": "execute_result",
          "data": {
            "text/plain": [
              "<matplotlib.lines.Line2D at 0x7f9d99e4eb00>"
            ]
          },
          "metadata": {},
          "execution_count": 282
        },
        {
          "output_type": "display_data",
          "data": {
            "text/plain": [
              "<Figure size 640x480 with 1 Axes>"
            ],
            "image/png": "[encoded data removed]"
          },
          "metadata": {}
        }
      ]
    },
    {
      "cell_type": "code",
      "source": [
        "vix_ticker = yf.Ticker(\"^VIX\")\n",
        "\n",
        "# Fetch VIX data\n",
        "vix_data = pd.DataFrame(vix_ticker.history(start=\"2023-04-03\", end=\"2023-06-30\"))\n",
        "vix_data.index = [str(date.to_pydatetime())[:10] for date in vix_data.index]\n",
        "\n",
        "# Fetch SPX options data\n",
        "spx_data = pd.read_csv(\"./sample_data/combined_SPX_with_price.csv\")"
      ],
      "metadata": {
        "id": "lEJvF5-k-sIy"
      },
      "execution_count": null,
      "outputs": []
    },
    {
      "cell_type": "code",
      "source": [
        "iron_butterfly_trades = pd.DataFrame(index = vix_data.index)\n",
        "\n",
        "# pick an expiration date (all expiration dates are 3rd Friday of each month,\n",
        "# so we'll still have a lot of data to work with)\n",
        "# iron butterfly requires all 4 options to expire on the same day\n",
        "\n",
        "expiration_date = '2023-09-15'\n",
        "\n",
        "# filter spx data into calls and puts, and make sure that there is bid and ask volume\n",
        "# also make sure that it expires before 12/5/2023 (we can't get data from the future)\n",
        "calls = spx_data.query('Option_Type == \"C\" and bid_sz_00 != 0 and ask_sz_00 != 0 and Expiration_Date == @expiration_date')\n",
        "puts = spx_data.query('Option_Type == \"P\" and bid_sz_00 != 0 and ask_sz_00 != 0 and Expiration_Date == @expiration_date')\n",
        "\n",
        "for curr_date in vix_data.index:\n",
        "\n",
        "  unable_to_find = False\n",
        "\n",
        "  #curr_date = str(curr_date.to_pydatetime())[:10]\n",
        "  daily_calls = calls.query('date == @curr_date')\n",
        "  daily_puts = puts.query('date == @curr_date')\n",
        "\n",
        "  underlying_price = daily_calls.iloc[0]['close'] # strike price of the ATM call/put (current share price)\n",
        "  iron_butterfly_trades.at[curr_date,'underlying_price'] = underlying_price\n",
        "\n",
        "  # mid is the middle of the spread, floored to the nearest multiple of 10\n",
        "\n",
        "  mid = underlying_price / 10\n",
        "  mid = math.floor(mid)\n",
        "  mid *= 10\n",
        "\n",
        "  # look for the best ATM call bid (with strike price close to mid)\n",
        "\n",
        "  daily_calls_atm = daily_calls.query('Strike_Price >= @mid - 10 and Strike_Price <= @mid + 10')\n",
        "  if (not daily_calls_atm.empty):\n",
        "    best_index = daily_calls_atm['Strike_Price'].idxmax()\n",
        "    mid_call = daily_calls_atm.at[best_index,'Strike_Price']\n",
        "    atm_call_price = daily_calls_atm.at[best_index,'bid_px_00'] * 0.000000001\n",
        "\n",
        "    iron_butterfly_trades.at[curr_date,'mid_call'] = mid_call\n",
        "    iron_butterfly_trades.at[curr_date,'atm_call_price'] = atm_call_price\n",
        "  else:\n",
        "    unable_to_find = True\n",
        "\n",
        "  # look for the best ATM put bid\n",
        "\n",
        "  daily_puts_atm = daily_puts.query('Strike_Price >= @mid - 10 and Strike_Price <= @mid + 10')\n",
        "\n",
        "  if (not daily_puts_atm.empty):\n",
        "    best_index = daily_puts_atm['Strike_Price'].idxmax()\n",
        "    mid_put = daily_puts_atm.at[best_index,'Strike_Price']\n",
        "    atm_put_price = daily_puts_atm.at[best_index,'bid_px_00'] * 0.000000001\n",
        "\n",
        "    iron_butterfly_trades.at[curr_date,'mid_put'] = mid_put\n",
        "    iron_butterfly_trades.at[curr_date,'atm_put_price'] = atm_put_price\n",
        "  else:\n",
        "    unable_to_find = True\n",
        "\n",
        "  # look for the cheapest OTM put (with Strike_Price = underlying_price - 300, +- 50)\n",
        "\n",
        "  daily_puts_otm = daily_puts.query('Strike_Price >= @mid - 350 and Strike_Price <= @mid - 250')\n",
        "\n",
        "  if (not daily_puts_otm.empty):\n",
        "    best_index = daily_puts_otm['Strike_Price'].idxmin()\n",
        "    lower_strike = daily_puts_otm.at[best_index,'Strike_Price']\n",
        "    otm_put_price = daily_puts_otm.at[best_index,'ask_px_00'] * 0.000000001\n",
        "\n",
        "    iron_butterfly_trades.at[curr_date,'lower_strike'] = lower_strike\n",
        "    iron_butterfly_trades.at[curr_date,'otm_put_price'] = otm_put_price\n",
        "  else:\n",
        "    unable_to_find = True\n",
        "\n",
        "  # look for the cheapest OTM call (with Strike_Price = underlying_price + 300, +- 50)\n",
        "\n",
        "  daily_calls_otm = daily_calls.query('Strike_Price <= @mid + 350 and Strike_Price >= @mid + 250')\n",
        "\n",
        "  if (not daily_calls_otm.empty):\n",
        "    best_index = daily_calls_otm['Strike_Price'].idxmin()\n",
        "    upper_strike = daily_calls_otm.at[best_index,'Strike_Price']\n",
        "    otm_call_price = daily_calls_otm.at[best_index,'ask_px_00'] * 0.000000001\n",
        "\n",
        "    iron_butterfly_trades.at[curr_date,'upper_strike'] = upper_strike\n",
        "    iron_butterfly_trades.at[curr_date,'otm_call_price'] = otm_call_price\n",
        "  else:\n",
        "    unable_to_find = True\n",
        "\n",
        "  # if we couldn't find ATM call/put or OTM call/put reasonably close to the target price, drop the row\n",
        "  if (unable_to_find):\n",
        "    iron_butterfly_trades = iron_butterfly_trades.drop(curr_date, axis='rows')\n"
      ],
      "metadata": {
        "id": "Z12a1tDKbdBo"
      },
      "execution_count": null,
      "outputs": []
    },
    {
      "cell_type": "code",
      "source": [
        "# Backtest the strategy, one iron butterfly per day\n",
        "# Actual price of underlying on expiration date: 8/18/2023: 4369.71 | 9/15/2023: 4450.32\n",
        "\n",
        "underlying_price = {'2023-08-18': 4369.71, '2023-09-15': 4450.32}\n",
        "\n",
        "iron_butterfly_trades['profit'] = iron_butterfly_trades.apply(calculate_iron_butterfly, axis=1, underlying_price = underlying_price[expiration_date])"
      ],
      "metadata": {
        "id": "UQlt-Xm6e2YM"
      },
      "execution_count": null,
      "outputs": []
    },
    {
      "cell_type": "code",
      "source": [
        "# Append VIX data to the dataframe\n",
        "\n",
        "result = pd.merge(iron_butterfly_trades, vix_data['Open'], left_index=True, right_index=True)\n",
        "result.to_csv('result.csv')"
      ],
      "metadata": {
        "id": "iAo3AbPwwndi"
      },
      "execution_count": null,
      "outputs": []
    }
  ]
}